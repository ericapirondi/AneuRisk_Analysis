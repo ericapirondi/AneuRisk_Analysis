{
  "nbformat": 4,
  "nbformat_minor": 0,
  "metadata": {
    "colab": {
      "provenance": []
    },
    "kernelspec": {
      "name": "python3",
      "display_name": "Python 3"
    },
    "language_info": {
      "name": "python"
    }
  },
  "cells": [
    {
      "cell_type": "markdown",
      "source": [
        "# Preliminary Analysis"
      ],
      "metadata": {
        "id": "cieKOocXT6RU"
      }
    },
    {
      "cell_type": "code",
      "execution_count": 1,
      "metadata": {
        "id": "_m9gIdu2UmJe"
      },
      "outputs": [],
      "source": [
        "# import the libraries\n",
        "import numpy as np\n",
        "import matplotlib.pyplot as plt\n",
        "import pandas as pd\n",
        "import seaborn as sns"
      ]
    },
    {
      "cell_type": "code",
      "source": [
        "# drive connection\n",
        "from google.colab import drive\n",
        "drive.mount(\"/content/drive\")"
      ],
      "metadata": {
        "id": "rMsasov9UrJu",
        "colab": {
          "base_uri": "https://localhost:8080/"
        },
        "outputId": "def827f7-a7a2-45b0-d29e-9199c80e80f8"
      },
      "execution_count": 2,
      "outputs": [
        {
          "output_type": "stream",
          "name": "stdout",
          "text": [
            "Mounted at /content/drive\n"
          ]
        }
      ]
    },
    {
      "cell_type": "code",
      "source": [
        "# import the dataframe\n",
        "feature_df = pd.read_csv(\"/content/drive/MyDrive/THESIS/dataset.csv\")\n",
        "feature_df"
      ],
      "metadata": {
        "id": "Nh30MZ9XUuE2",
        "colab": {
          "base_uri": "https://localhost:8080/",
          "height": 423
        },
        "outputId": "defc80a7-250a-4035-d52a-0d6e8dc2a622"
      },
      "execution_count": 3,
      "outputs": [
        {
          "output_type": "execute_result",
          "data": {
            "text/plain": [
              "       id            institution modality  age sex aneurysmType  \\\n",
              "0   C0001  NiguardaHospitalMilan    3D-RA   53   F          LAT   \n",
              "1   C0002  NiguardaHospitalMilan    3D-RA   35   F          LAT   \n",
              "2   C0003  NiguardaHospitalMilan    3D-RA   43   F          TER   \n",
              "3   C0004  NiguardaHospitalMilan    3D-RA   60   F          TER   \n",
              "4   C0005  NiguardaHospitalMilan    3D-RA   26   F          LAT   \n",
              "..    ...                    ...      ...  ...  ..          ...   \n",
              "90  C0095  NiguardaHospitalMilan    3D-RA   43   F          TER   \n",
              "91  C0096  NiguardaHospitalMilan    3D-RA   67   M          TER   \n",
              "92  C0097  NiguardaHospitalMilan    3D-RA   84   F          LAT   \n",
              "93  C0098  NiguardaHospitalMilan    3D-RA   59   F          TER   \n",
              "94  C0099  NiguardaHospitalMilan    3D-RA   42   F          TER   \n",
              "\n",
              "   aneurysmLocation ruptureStatus  multipleAneurysms  medicalIstory  \n",
              "0               ICA             U              False            NaN  \n",
              "1               ICA             U              False            NaN  \n",
              "2               ICA             U              False            NaN  \n",
              "3               ICA             U               True            NaN  \n",
              "4               ICA             R              False            NaN  \n",
              "..              ...           ...                ...            ...  \n",
              "90              BAS             F              False            NaN  \n",
              "91              BAS             R              False            NaN  \n",
              "92              ICA             R              False            NaN  \n",
              "93              MCA             R              False            NaN  \n",
              "94              MCA             U              False            NaN  \n",
              "\n",
              "[95 rows x 10 columns]"
            ],
            "text/html": [
              "\n",
              "  <div id=\"df-0d7291a4-c563-4872-8ed1-220fde98bf72\" class=\"colab-df-container\">\n",
              "    <div>\n",
              "<style scoped>\n",
              "    .dataframe tbody tr th:only-of-type {\n",
              "        vertical-align: middle;\n",
              "    }\n",
              "\n",
              "    .dataframe tbody tr th {\n",
              "        vertical-align: top;\n",
              "    }\n",
              "\n",
              "    .dataframe thead th {\n",
              "        text-align: right;\n",
              "    }\n",
              "</style>\n",
              "<table border=\"1\" class=\"dataframe\">\n",
              "  <thead>\n",
              "    <tr style=\"text-align: right;\">\n",
              "      <th></th>\n",
              "      <th>id</th>\n",
              "      <th>institution</th>\n",
              "      <th>modality</th>\n",
              "      <th>age</th>\n",
              "      <th>sex</th>\n",
              "      <th>aneurysmType</th>\n",
              "      <th>aneurysmLocation</th>\n",
              "      <th>ruptureStatus</th>\n",
              "      <th>multipleAneurysms</th>\n",
              "      <th>medicalIstory</th>\n",
              "    </tr>\n",
              "  </thead>\n",
              "  <tbody>\n",
              "    <tr>\n",
              "      <th>0</th>\n",
              "      <td>C0001</td>\n",
              "      <td>NiguardaHospitalMilan</td>\n",
              "      <td>3D-RA</td>\n",
              "      <td>53</td>\n",
              "      <td>F</td>\n",
              "      <td>LAT</td>\n",
              "      <td>ICA</td>\n",
              "      <td>U</td>\n",
              "      <td>False</td>\n",
              "      <td>NaN</td>\n",
              "    </tr>\n",
              "    <tr>\n",
              "      <th>1</th>\n",
              "      <td>C0002</td>\n",
              "      <td>NiguardaHospitalMilan</td>\n",
              "      <td>3D-RA</td>\n",
              "      <td>35</td>\n",
              "      <td>F</td>\n",
              "      <td>LAT</td>\n",
              "      <td>ICA</td>\n",
              "      <td>U</td>\n",
              "      <td>False</td>\n",
              "      <td>NaN</td>\n",
              "    </tr>\n",
              "    <tr>\n",
              "      <th>2</th>\n",
              "      <td>C0003</td>\n",
              "      <td>NiguardaHospitalMilan</td>\n",
              "      <td>3D-RA</td>\n",
              "      <td>43</td>\n",
              "      <td>F</td>\n",
              "      <td>TER</td>\n",
              "      <td>ICA</td>\n",
              "      <td>U</td>\n",
              "      <td>False</td>\n",
              "      <td>NaN</td>\n",
              "    </tr>\n",
              "    <tr>\n",
              "      <th>3</th>\n",
              "      <td>C0004</td>\n",
              "      <td>NiguardaHospitalMilan</td>\n",
              "      <td>3D-RA</td>\n",
              "      <td>60</td>\n",
              "      <td>F</td>\n",
              "      <td>TER</td>\n",
              "      <td>ICA</td>\n",
              "      <td>U</td>\n",
              "      <td>True</td>\n",
              "      <td>NaN</td>\n",
              "    </tr>\n",
              "    <tr>\n",
              "      <th>4</th>\n",
              "      <td>C0005</td>\n",
              "      <td>NiguardaHospitalMilan</td>\n",
              "      <td>3D-RA</td>\n",
              "      <td>26</td>\n",
              "      <td>F</td>\n",
              "      <td>LAT</td>\n",
              "      <td>ICA</td>\n",
              "      <td>R</td>\n",
              "      <td>False</td>\n",
              "      <td>NaN</td>\n",
              "    </tr>\n",
              "    <tr>\n",
              "      <th>...</th>\n",
              "      <td>...</td>\n",
              "      <td>...</td>\n",
              "      <td>...</td>\n",
              "      <td>...</td>\n",
              "      <td>...</td>\n",
              "      <td>...</td>\n",
              "      <td>...</td>\n",
              "      <td>...</td>\n",
              "      <td>...</td>\n",
              "      <td>...</td>\n",
              "    </tr>\n",
              "    <tr>\n",
              "      <th>90</th>\n",
              "      <td>C0095</td>\n",
              "      <td>NiguardaHospitalMilan</td>\n",
              "      <td>3D-RA</td>\n",
              "      <td>43</td>\n",
              "      <td>F</td>\n",
              "      <td>TER</td>\n",
              "      <td>BAS</td>\n",
              "      <td>F</td>\n",
              "      <td>False</td>\n",
              "      <td>NaN</td>\n",
              "    </tr>\n",
              "    <tr>\n",
              "      <th>91</th>\n",
              "      <td>C0096</td>\n",
              "      <td>NiguardaHospitalMilan</td>\n",
              "      <td>3D-RA</td>\n",
              "      <td>67</td>\n",
              "      <td>M</td>\n",
              "      <td>TER</td>\n",
              "      <td>BAS</td>\n",
              "      <td>R</td>\n",
              "      <td>False</td>\n",
              "      <td>NaN</td>\n",
              "    </tr>\n",
              "    <tr>\n",
              "      <th>92</th>\n",
              "      <td>C0097</td>\n",
              "      <td>NiguardaHospitalMilan</td>\n",
              "      <td>3D-RA</td>\n",
              "      <td>84</td>\n",
              "      <td>F</td>\n",
              "      <td>LAT</td>\n",
              "      <td>ICA</td>\n",
              "      <td>R</td>\n",
              "      <td>False</td>\n",
              "      <td>NaN</td>\n",
              "    </tr>\n",
              "    <tr>\n",
              "      <th>93</th>\n",
              "      <td>C0098</td>\n",
              "      <td>NiguardaHospitalMilan</td>\n",
              "      <td>3D-RA</td>\n",
              "      <td>59</td>\n",
              "      <td>F</td>\n",
              "      <td>TER</td>\n",
              "      <td>MCA</td>\n",
              "      <td>R</td>\n",
              "      <td>False</td>\n",
              "      <td>NaN</td>\n",
              "    </tr>\n",
              "    <tr>\n",
              "      <th>94</th>\n",
              "      <td>C0099</td>\n",
              "      <td>NiguardaHospitalMilan</td>\n",
              "      <td>3D-RA</td>\n",
              "      <td>42</td>\n",
              "      <td>F</td>\n",
              "      <td>TER</td>\n",
              "      <td>MCA</td>\n",
              "      <td>U</td>\n",
              "      <td>False</td>\n",
              "      <td>NaN</td>\n",
              "    </tr>\n",
              "  </tbody>\n",
              "</table>\n",
              "<p>95 rows × 10 columns</p>\n",
              "</div>\n",
              "    <div class=\"colab-df-buttons\">\n",
              "\n",
              "  <div class=\"colab-df-container\">\n",
              "    <button class=\"colab-df-convert\" onclick=\"convertToInteractive('df-0d7291a4-c563-4872-8ed1-220fde98bf72')\"\n",
              "            title=\"Convert this dataframe to an interactive table.\"\n",
              "            style=\"display:none;\">\n",
              "\n",
              "  <svg xmlns=\"http://www.w3.org/2000/svg\" height=\"24px\" viewBox=\"0 -960 960 960\">\n",
              "    <path d=\"M120-120v-720h720v720H120Zm60-500h600v-160H180v160Zm220 220h160v-160H400v160Zm0 220h160v-160H400v160ZM180-400h160v-160H180v160Zm440 0h160v-160H620v160ZM180-180h160v-160H180v160Zm440 0h160v-160H620v160Z\"/>\n",
              "  </svg>\n",
              "    </button>\n",
              "\n",
              "  <style>\n",
              "    .colab-df-container {\n",
              "      display:flex;\n",
              "      gap: 12px;\n",
              "    }\n",
              "\n",
              "    .colab-df-convert {\n",
              "      background-color: #E8F0FE;\n",
              "      border: none;\n",
              "      border-radius: 50%;\n",
              "      cursor: pointer;\n",
              "      display: none;\n",
              "      fill: #1967D2;\n",
              "      height: 32px;\n",
              "      padding: 0 0 0 0;\n",
              "      width: 32px;\n",
              "    }\n",
              "\n",
              "    .colab-df-convert:hover {\n",
              "      background-color: #E2EBFA;\n",
              "      box-shadow: 0px 1px 2px rgba(60, 64, 67, 0.3), 0px 1px 3px 1px rgba(60, 64, 67, 0.15);\n",
              "      fill: #174EA6;\n",
              "    }\n",
              "\n",
              "    .colab-df-buttons div {\n",
              "      margin-bottom: 4px;\n",
              "    }\n",
              "\n",
              "    [theme=dark] .colab-df-convert {\n",
              "      background-color: #3B4455;\n",
              "      fill: #D2E3FC;\n",
              "    }\n",
              "\n",
              "    [theme=dark] .colab-df-convert:hover {\n",
              "      background-color: #434B5C;\n",
              "      box-shadow: 0px 1px 3px 1px rgba(0, 0, 0, 0.15);\n",
              "      filter: drop-shadow(0px 1px 2px rgba(0, 0, 0, 0.3));\n",
              "      fill: #FFFFFF;\n",
              "    }\n",
              "  </style>\n",
              "\n",
              "    <script>\n",
              "      const buttonEl =\n",
              "        document.querySelector('#df-0d7291a4-c563-4872-8ed1-220fde98bf72 button.colab-df-convert');\n",
              "      buttonEl.style.display =\n",
              "        google.colab.kernel.accessAllowed ? 'block' : 'none';\n",
              "\n",
              "      async function convertToInteractive(key) {\n",
              "        const element = document.querySelector('#df-0d7291a4-c563-4872-8ed1-220fde98bf72');\n",
              "        const dataTable =\n",
              "          await google.colab.kernel.invokeFunction('convertToInteractive',\n",
              "                                                    [key], {});\n",
              "        if (!dataTable) return;\n",
              "\n",
              "        const docLinkHtml = 'Like what you see? Visit the ' +\n",
              "          '<a target=\"_blank\" href=https://colab.research.google.com/notebooks/data_table.ipynb>data table notebook</a>'\n",
              "          + ' to learn more about interactive tables.';\n",
              "        element.innerHTML = '';\n",
              "        dataTable['output_type'] = 'display_data';\n",
              "        await google.colab.output.renderOutput(dataTable, element);\n",
              "        const docLink = document.createElement('div');\n",
              "        docLink.innerHTML = docLinkHtml;\n",
              "        element.appendChild(docLink);\n",
              "      }\n",
              "    </script>\n",
              "  </div>\n",
              "\n",
              "\n",
              "<div id=\"df-c0e8a731-0a4f-41c7-8d20-52f737a6c736\">\n",
              "  <button class=\"colab-df-quickchart\" onclick=\"quickchart('df-c0e8a731-0a4f-41c7-8d20-52f737a6c736')\"\n",
              "            title=\"Suggest charts.\"\n",
              "            style=\"display:none;\">\n",
              "\n",
              "<svg xmlns=\"http://www.w3.org/2000/svg\" height=\"24px\"viewBox=\"0 0 24 24\"\n",
              "     width=\"24px\">\n",
              "    <g>\n",
              "        <path d=\"M19 3H5c-1.1 0-2 .9-2 2v14c0 1.1.9 2 2 2h14c1.1 0 2-.9 2-2V5c0-1.1-.9-2-2-2zM9 17H7v-7h2v7zm4 0h-2V7h2v10zm4 0h-2v-4h2v4z\"/>\n",
              "    </g>\n",
              "</svg>\n",
              "  </button>\n",
              "\n",
              "<style>\n",
              "  .colab-df-quickchart {\n",
              "      --bg-color: #E8F0FE;\n",
              "      --fill-color: #1967D2;\n",
              "      --hover-bg-color: #E2EBFA;\n",
              "      --hover-fill-color: #174EA6;\n",
              "      --disabled-fill-color: #AAA;\n",
              "      --disabled-bg-color: #DDD;\n",
              "  }\n",
              "\n",
              "  [theme=dark] .colab-df-quickchart {\n",
              "      --bg-color: #3B4455;\n",
              "      --fill-color: #D2E3FC;\n",
              "      --hover-bg-color: #434B5C;\n",
              "      --hover-fill-color: #FFFFFF;\n",
              "      --disabled-bg-color: #3B4455;\n",
              "      --disabled-fill-color: #666;\n",
              "  }\n",
              "\n",
              "  .colab-df-quickchart {\n",
              "    background-color: var(--bg-color);\n",
              "    border: none;\n",
              "    border-radius: 50%;\n",
              "    cursor: pointer;\n",
              "    display: none;\n",
              "    fill: var(--fill-color);\n",
              "    height: 32px;\n",
              "    padding: 0;\n",
              "    width: 32px;\n",
              "  }\n",
              "\n",
              "  .colab-df-quickchart:hover {\n",
              "    background-color: var(--hover-bg-color);\n",
              "    box-shadow: 0 1px 2px rgba(60, 64, 67, 0.3), 0 1px 3px 1px rgba(60, 64, 67, 0.15);\n",
              "    fill: var(--button-hover-fill-color);\n",
              "  }\n",
              "\n",
              "  .colab-df-quickchart-complete:disabled,\n",
              "  .colab-df-quickchart-complete:disabled:hover {\n",
              "    background-color: var(--disabled-bg-color);\n",
              "    fill: var(--disabled-fill-color);\n",
              "    box-shadow: none;\n",
              "  }\n",
              "\n",
              "  .colab-df-spinner {\n",
              "    border: 2px solid var(--fill-color);\n",
              "    border-color: transparent;\n",
              "    border-bottom-color: var(--fill-color);\n",
              "    animation:\n",
              "      spin 1s steps(1) infinite;\n",
              "  }\n",
              "\n",
              "  @keyframes spin {\n",
              "    0% {\n",
              "      border-color: transparent;\n",
              "      border-bottom-color: var(--fill-color);\n",
              "      border-left-color: var(--fill-color);\n",
              "    }\n",
              "    20% {\n",
              "      border-color: transparent;\n",
              "      border-left-color: var(--fill-color);\n",
              "      border-top-color: var(--fill-color);\n",
              "    }\n",
              "    30% {\n",
              "      border-color: transparent;\n",
              "      border-left-color: var(--fill-color);\n",
              "      border-top-color: var(--fill-color);\n",
              "      border-right-color: var(--fill-color);\n",
              "    }\n",
              "    40% {\n",
              "      border-color: transparent;\n",
              "      border-right-color: var(--fill-color);\n",
              "      border-top-color: var(--fill-color);\n",
              "    }\n",
              "    60% {\n",
              "      border-color: transparent;\n",
              "      border-right-color: var(--fill-color);\n",
              "    }\n",
              "    80% {\n",
              "      border-color: transparent;\n",
              "      border-right-color: var(--fill-color);\n",
              "      border-bottom-color: var(--fill-color);\n",
              "    }\n",
              "    90% {\n",
              "      border-color: transparent;\n",
              "      border-bottom-color: var(--fill-color);\n",
              "    }\n",
              "  }\n",
              "</style>\n",
              "\n",
              "  <script>\n",
              "    async function quickchart(key) {\n",
              "      const quickchartButtonEl =\n",
              "        document.querySelector('#' + key + ' button');\n",
              "      quickchartButtonEl.disabled = true;  // To prevent multiple clicks.\n",
              "      quickchartButtonEl.classList.add('colab-df-spinner');\n",
              "      try {\n",
              "        const charts = await google.colab.kernel.invokeFunction(\n",
              "            'suggestCharts', [key], {});\n",
              "      } catch (error) {\n",
              "        console.error('Error during call to suggestCharts:', error);\n",
              "      }\n",
              "      quickchartButtonEl.classList.remove('colab-df-spinner');\n",
              "      quickchartButtonEl.classList.add('colab-df-quickchart-complete');\n",
              "    }\n",
              "    (() => {\n",
              "      let quickchartButtonEl =\n",
              "        document.querySelector('#df-c0e8a731-0a4f-41c7-8d20-52f737a6c736 button');\n",
              "      quickchartButtonEl.style.display =\n",
              "        google.colab.kernel.accessAllowed ? 'block' : 'none';\n",
              "    })();\n",
              "  </script>\n",
              "</div>\n",
              "    </div>\n",
              "  </div>\n"
            ]
          },
          "metadata": {},
          "execution_count": 3
        }
      ]
    },
    {
      "cell_type": "code",
      "source": [
        "# drop the wrong inserted element\n",
        "feature_df = feature_df.drop(feature_df[feature_df.ruptureStatus =='F'].index, axis = 0)"
      ],
      "metadata": {
        "id": "HAH4a7roUwkH"
      },
      "execution_count": 4,
      "outputs": []
    },
    {
      "cell_type": "code",
      "source": [
        "# see the dataframe\n",
        "feature_df"
      ],
      "metadata": {
        "id": "YjtaiIyPUxpP",
        "colab": {
          "base_uri": "https://localhost:8080/",
          "height": 423
        },
        "outputId": "96ad3278-ff73-48a1-8e7c-a9262f9d04ac"
      },
      "execution_count": 5,
      "outputs": [
        {
          "output_type": "execute_result",
          "data": {
            "text/plain": [
              "       id            institution modality  age sex aneurysmType  \\\n",
              "0   C0001  NiguardaHospitalMilan    3D-RA   53   F          LAT   \n",
              "1   C0002  NiguardaHospitalMilan    3D-RA   35   F          LAT   \n",
              "2   C0003  NiguardaHospitalMilan    3D-RA   43   F          TER   \n",
              "3   C0004  NiguardaHospitalMilan    3D-RA   60   F          TER   \n",
              "4   C0005  NiguardaHospitalMilan    3D-RA   26   F          LAT   \n",
              "..    ...                    ...      ...  ...  ..          ...   \n",
              "89  C0094  NiguardaHospitalMilan    3D-RA   36   F          TER   \n",
              "91  C0096  NiguardaHospitalMilan    3D-RA   67   M          TER   \n",
              "92  C0097  NiguardaHospitalMilan    3D-RA   84   F          LAT   \n",
              "93  C0098  NiguardaHospitalMilan    3D-RA   59   F          TER   \n",
              "94  C0099  NiguardaHospitalMilan    3D-RA   42   F          TER   \n",
              "\n",
              "   aneurysmLocation ruptureStatus  multipleAneurysms  medicalIstory  \n",
              "0               ICA             U              False            NaN  \n",
              "1               ICA             U              False            NaN  \n",
              "2               ICA             U              False            NaN  \n",
              "3               ICA             U               True            NaN  \n",
              "4               ICA             R              False            NaN  \n",
              "..              ...           ...                ...            ...  \n",
              "89              MCA             R              False            NaN  \n",
              "91              BAS             R              False            NaN  \n",
              "92              ICA             R              False            NaN  \n",
              "93              MCA             R              False            NaN  \n",
              "94              MCA             U              False            NaN  \n",
              "\n",
              "[94 rows x 10 columns]"
            ],
            "text/html": [
              "\n",
              "  <div id=\"df-3182f75b-b200-4fd8-bf52-90a221a1352e\" class=\"colab-df-container\">\n",
              "    <div>\n",
              "<style scoped>\n",
              "    .dataframe tbody tr th:only-of-type {\n",
              "        vertical-align: middle;\n",
              "    }\n",
              "\n",
              "    .dataframe tbody tr th {\n",
              "        vertical-align: top;\n",
              "    }\n",
              "\n",
              "    .dataframe thead th {\n",
              "        text-align: right;\n",
              "    }\n",
              "</style>\n",
              "<table border=\"1\" class=\"dataframe\">\n",
              "  <thead>\n",
              "    <tr style=\"text-align: right;\">\n",
              "      <th></th>\n",
              "      <th>id</th>\n",
              "      <th>institution</th>\n",
              "      <th>modality</th>\n",
              "      <th>age</th>\n",
              "      <th>sex</th>\n",
              "      <th>aneurysmType</th>\n",
              "      <th>aneurysmLocation</th>\n",
              "      <th>ruptureStatus</th>\n",
              "      <th>multipleAneurysms</th>\n",
              "      <th>medicalIstory</th>\n",
              "    </tr>\n",
              "  </thead>\n",
              "  <tbody>\n",
              "    <tr>\n",
              "      <th>0</th>\n",
              "      <td>C0001</td>\n",
              "      <td>NiguardaHospitalMilan</td>\n",
              "      <td>3D-RA</td>\n",
              "      <td>53</td>\n",
              "      <td>F</td>\n",
              "      <td>LAT</td>\n",
              "      <td>ICA</td>\n",
              "      <td>U</td>\n",
              "      <td>False</td>\n",
              "      <td>NaN</td>\n",
              "    </tr>\n",
              "    <tr>\n",
              "      <th>1</th>\n",
              "      <td>C0002</td>\n",
              "      <td>NiguardaHospitalMilan</td>\n",
              "      <td>3D-RA</td>\n",
              "      <td>35</td>\n",
              "      <td>F</td>\n",
              "      <td>LAT</td>\n",
              "      <td>ICA</td>\n",
              "      <td>U</td>\n",
              "      <td>False</td>\n",
              "      <td>NaN</td>\n",
              "    </tr>\n",
              "    <tr>\n",
              "      <th>2</th>\n",
              "      <td>C0003</td>\n",
              "      <td>NiguardaHospitalMilan</td>\n",
              "      <td>3D-RA</td>\n",
              "      <td>43</td>\n",
              "      <td>F</td>\n",
              "      <td>TER</td>\n",
              "      <td>ICA</td>\n",
              "      <td>U</td>\n",
              "      <td>False</td>\n",
              "      <td>NaN</td>\n",
              "    </tr>\n",
              "    <tr>\n",
              "      <th>3</th>\n",
              "      <td>C0004</td>\n",
              "      <td>NiguardaHospitalMilan</td>\n",
              "      <td>3D-RA</td>\n",
              "      <td>60</td>\n",
              "      <td>F</td>\n",
              "      <td>TER</td>\n",
              "      <td>ICA</td>\n",
              "      <td>U</td>\n",
              "      <td>True</td>\n",
              "      <td>NaN</td>\n",
              "    </tr>\n",
              "    <tr>\n",
              "      <th>4</th>\n",
              "      <td>C0005</td>\n",
              "      <td>NiguardaHospitalMilan</td>\n",
              "      <td>3D-RA</td>\n",
              "      <td>26</td>\n",
              "      <td>F</td>\n",
              "      <td>LAT</td>\n",
              "      <td>ICA</td>\n",
              "      <td>R</td>\n",
              "      <td>False</td>\n",
              "      <td>NaN</td>\n",
              "    </tr>\n",
              "    <tr>\n",
              "      <th>...</th>\n",
              "      <td>...</td>\n",
              "      <td>...</td>\n",
              "      <td>...</td>\n",
              "      <td>...</td>\n",
              "      <td>...</td>\n",
              "      <td>...</td>\n",
              "      <td>...</td>\n",
              "      <td>...</td>\n",
              "      <td>...</td>\n",
              "      <td>...</td>\n",
              "    </tr>\n",
              "    <tr>\n",
              "      <th>89</th>\n",
              "      <td>C0094</td>\n",
              "      <td>NiguardaHospitalMilan</td>\n",
              "      <td>3D-RA</td>\n",
              "      <td>36</td>\n",
              "      <td>F</td>\n",
              "      <td>TER</td>\n",
              "      <td>MCA</td>\n",
              "      <td>R</td>\n",
              "      <td>False</td>\n",
              "      <td>NaN</td>\n",
              "    </tr>\n",
              "    <tr>\n",
              "      <th>91</th>\n",
              "      <td>C0096</td>\n",
              "      <td>NiguardaHospitalMilan</td>\n",
              "      <td>3D-RA</td>\n",
              "      <td>67</td>\n",
              "      <td>M</td>\n",
              "      <td>TER</td>\n",
              "      <td>BAS</td>\n",
              "      <td>R</td>\n",
              "      <td>False</td>\n",
              "      <td>NaN</td>\n",
              "    </tr>\n",
              "    <tr>\n",
              "      <th>92</th>\n",
              "      <td>C0097</td>\n",
              "      <td>NiguardaHospitalMilan</td>\n",
              "      <td>3D-RA</td>\n",
              "      <td>84</td>\n",
              "      <td>F</td>\n",
              "      <td>LAT</td>\n",
              "      <td>ICA</td>\n",
              "      <td>R</td>\n",
              "      <td>False</td>\n",
              "      <td>NaN</td>\n",
              "    </tr>\n",
              "    <tr>\n",
              "      <th>93</th>\n",
              "      <td>C0098</td>\n",
              "      <td>NiguardaHospitalMilan</td>\n",
              "      <td>3D-RA</td>\n",
              "      <td>59</td>\n",
              "      <td>F</td>\n",
              "      <td>TER</td>\n",
              "      <td>MCA</td>\n",
              "      <td>R</td>\n",
              "      <td>False</td>\n",
              "      <td>NaN</td>\n",
              "    </tr>\n",
              "    <tr>\n",
              "      <th>94</th>\n",
              "      <td>C0099</td>\n",
              "      <td>NiguardaHospitalMilan</td>\n",
              "      <td>3D-RA</td>\n",
              "      <td>42</td>\n",
              "      <td>F</td>\n",
              "      <td>TER</td>\n",
              "      <td>MCA</td>\n",
              "      <td>U</td>\n",
              "      <td>False</td>\n",
              "      <td>NaN</td>\n",
              "    </tr>\n",
              "  </tbody>\n",
              "</table>\n",
              "<p>94 rows × 10 columns</p>\n",
              "</div>\n",
              "    <div class=\"colab-df-buttons\">\n",
              "\n",
              "  <div class=\"colab-df-container\">\n",
              "    <button class=\"colab-df-convert\" onclick=\"convertToInteractive('df-3182f75b-b200-4fd8-bf52-90a221a1352e')\"\n",
              "            title=\"Convert this dataframe to an interactive table.\"\n",
              "            style=\"display:none;\">\n",
              "\n",
              "  <svg xmlns=\"http://www.w3.org/2000/svg\" height=\"24px\" viewBox=\"0 -960 960 960\">\n",
              "    <path d=\"M120-120v-720h720v720H120Zm60-500h600v-160H180v160Zm220 220h160v-160H400v160Zm0 220h160v-160H400v160ZM180-400h160v-160H180v160Zm440 0h160v-160H620v160ZM180-180h160v-160H180v160Zm440 0h160v-160H620v160Z\"/>\n",
              "  </svg>\n",
              "    </button>\n",
              "\n",
              "  <style>\n",
              "    .colab-df-container {\n",
              "      display:flex;\n",
              "      gap: 12px;\n",
              "    }\n",
              "\n",
              "    .colab-df-convert {\n",
              "      background-color: #E8F0FE;\n",
              "      border: none;\n",
              "      border-radius: 50%;\n",
              "      cursor: pointer;\n",
              "      display: none;\n",
              "      fill: #1967D2;\n",
              "      height: 32px;\n",
              "      padding: 0 0 0 0;\n",
              "      width: 32px;\n",
              "    }\n",
              "\n",
              "    .colab-df-convert:hover {\n",
              "      background-color: #E2EBFA;\n",
              "      box-shadow: 0px 1px 2px rgba(60, 64, 67, 0.3), 0px 1px 3px 1px rgba(60, 64, 67, 0.15);\n",
              "      fill: #174EA6;\n",
              "    }\n",
              "\n",
              "    .colab-df-buttons div {\n",
              "      margin-bottom: 4px;\n",
              "    }\n",
              "\n",
              "    [theme=dark] .colab-df-convert {\n",
              "      background-color: #3B4455;\n",
              "      fill: #D2E3FC;\n",
              "    }\n",
              "\n",
              "    [theme=dark] .colab-df-convert:hover {\n",
              "      background-color: #434B5C;\n",
              "      box-shadow: 0px 1px 3px 1px rgba(0, 0, 0, 0.15);\n",
              "      filter: drop-shadow(0px 1px 2px rgba(0, 0, 0, 0.3));\n",
              "      fill: #FFFFFF;\n",
              "    }\n",
              "  </style>\n",
              "\n",
              "    <script>\n",
              "      const buttonEl =\n",
              "        document.querySelector('#df-3182f75b-b200-4fd8-bf52-90a221a1352e button.colab-df-convert');\n",
              "      buttonEl.style.display =\n",
              "        google.colab.kernel.accessAllowed ? 'block' : 'none';\n",
              "\n",
              "      async function convertToInteractive(key) {\n",
              "        const element = document.querySelector('#df-3182f75b-b200-4fd8-bf52-90a221a1352e');\n",
              "        const dataTable =\n",
              "          await google.colab.kernel.invokeFunction('convertToInteractive',\n",
              "                                                    [key], {});\n",
              "        if (!dataTable) return;\n",
              "\n",
              "        const docLinkHtml = 'Like what you see? Visit the ' +\n",
              "          '<a target=\"_blank\" href=https://colab.research.google.com/notebooks/data_table.ipynb>data table notebook</a>'\n",
              "          + ' to learn more about interactive tables.';\n",
              "        element.innerHTML = '';\n",
              "        dataTable['output_type'] = 'display_data';\n",
              "        await google.colab.output.renderOutput(dataTable, element);\n",
              "        const docLink = document.createElement('div');\n",
              "        docLink.innerHTML = docLinkHtml;\n",
              "        element.appendChild(docLink);\n",
              "      }\n",
              "    </script>\n",
              "  </div>\n",
              "\n",
              "\n",
              "<div id=\"df-22dfe7f0-2cc9-451e-a3e4-b59d38c6306e\">\n",
              "  <button class=\"colab-df-quickchart\" onclick=\"quickchart('df-22dfe7f0-2cc9-451e-a3e4-b59d38c6306e')\"\n",
              "            title=\"Suggest charts.\"\n",
              "            style=\"display:none;\">\n",
              "\n",
              "<svg xmlns=\"http://www.w3.org/2000/svg\" height=\"24px\"viewBox=\"0 0 24 24\"\n",
              "     width=\"24px\">\n",
              "    <g>\n",
              "        <path d=\"M19 3H5c-1.1 0-2 .9-2 2v14c0 1.1.9 2 2 2h14c1.1 0 2-.9 2-2V5c0-1.1-.9-2-2-2zM9 17H7v-7h2v7zm4 0h-2V7h2v10zm4 0h-2v-4h2v4z\"/>\n",
              "    </g>\n",
              "</svg>\n",
              "  </button>\n",
              "\n",
              "<style>\n",
              "  .colab-df-quickchart {\n",
              "      --bg-color: #E8F0FE;\n",
              "      --fill-color: #1967D2;\n",
              "      --hover-bg-color: #E2EBFA;\n",
              "      --hover-fill-color: #174EA6;\n",
              "      --disabled-fill-color: #AAA;\n",
              "      --disabled-bg-color: #DDD;\n",
              "  }\n",
              "\n",
              "  [theme=dark] .colab-df-quickchart {\n",
              "      --bg-color: #3B4455;\n",
              "      --fill-color: #D2E3FC;\n",
              "      --hover-bg-color: #434B5C;\n",
              "      --hover-fill-color: #FFFFFF;\n",
              "      --disabled-bg-color: #3B4455;\n",
              "      --disabled-fill-color: #666;\n",
              "  }\n",
              "\n",
              "  .colab-df-quickchart {\n",
              "    background-color: var(--bg-color);\n",
              "    border: none;\n",
              "    border-radius: 50%;\n",
              "    cursor: pointer;\n",
              "    display: none;\n",
              "    fill: var(--fill-color);\n",
              "    height: 32px;\n",
              "    padding: 0;\n",
              "    width: 32px;\n",
              "  }\n",
              "\n",
              "  .colab-df-quickchart:hover {\n",
              "    background-color: var(--hover-bg-color);\n",
              "    box-shadow: 0 1px 2px rgba(60, 64, 67, 0.3), 0 1px 3px 1px rgba(60, 64, 67, 0.15);\n",
              "    fill: var(--button-hover-fill-color);\n",
              "  }\n",
              "\n",
              "  .colab-df-quickchart-complete:disabled,\n",
              "  .colab-df-quickchart-complete:disabled:hover {\n",
              "    background-color: var(--disabled-bg-color);\n",
              "    fill: var(--disabled-fill-color);\n",
              "    box-shadow: none;\n",
              "  }\n",
              "\n",
              "  .colab-df-spinner {\n",
              "    border: 2px solid var(--fill-color);\n",
              "    border-color: transparent;\n",
              "    border-bottom-color: var(--fill-color);\n",
              "    animation:\n",
              "      spin 1s steps(1) infinite;\n",
              "  }\n",
              "\n",
              "  @keyframes spin {\n",
              "    0% {\n",
              "      border-color: transparent;\n",
              "      border-bottom-color: var(--fill-color);\n",
              "      border-left-color: var(--fill-color);\n",
              "    }\n",
              "    20% {\n",
              "      border-color: transparent;\n",
              "      border-left-color: var(--fill-color);\n",
              "      border-top-color: var(--fill-color);\n",
              "    }\n",
              "    30% {\n",
              "      border-color: transparent;\n",
              "      border-left-color: var(--fill-color);\n",
              "      border-top-color: var(--fill-color);\n",
              "      border-right-color: var(--fill-color);\n",
              "    }\n",
              "    40% {\n",
              "      border-color: transparent;\n",
              "      border-right-color: var(--fill-color);\n",
              "      border-top-color: var(--fill-color);\n",
              "    }\n",
              "    60% {\n",
              "      border-color: transparent;\n",
              "      border-right-color: var(--fill-color);\n",
              "    }\n",
              "    80% {\n",
              "      border-color: transparent;\n",
              "      border-right-color: var(--fill-color);\n",
              "      border-bottom-color: var(--fill-color);\n",
              "    }\n",
              "    90% {\n",
              "      border-color: transparent;\n",
              "      border-bottom-color: var(--fill-color);\n",
              "    }\n",
              "  }\n",
              "</style>\n",
              "\n",
              "  <script>\n",
              "    async function quickchart(key) {\n",
              "      const quickchartButtonEl =\n",
              "        document.querySelector('#' + key + ' button');\n",
              "      quickchartButtonEl.disabled = true;  // To prevent multiple clicks.\n",
              "      quickchartButtonEl.classList.add('colab-df-spinner');\n",
              "      try {\n",
              "        const charts = await google.colab.kernel.invokeFunction(\n",
              "            'suggestCharts', [key], {});\n",
              "      } catch (error) {\n",
              "        console.error('Error during call to suggestCharts:', error);\n",
              "      }\n",
              "      quickchartButtonEl.classList.remove('colab-df-spinner');\n",
              "      quickchartButtonEl.classList.add('colab-df-quickchart-complete');\n",
              "    }\n",
              "    (() => {\n",
              "      let quickchartButtonEl =\n",
              "        document.querySelector('#df-22dfe7f0-2cc9-451e-a3e4-b59d38c6306e button');\n",
              "      quickchartButtonEl.style.display =\n",
              "        google.colab.kernel.accessAllowed ? 'block' : 'none';\n",
              "    })();\n",
              "  </script>\n",
              "</div>\n",
              "    </div>\n",
              "  </div>\n"
            ]
          },
          "metadata": {},
          "execution_count": 5
        }
      ]
    },
    {
      "cell_type": "markdown",
      "source": [
        "### Initials Plots:"
      ],
      "metadata": {
        "id": "ty1LQHzxUJbX"
      }
    },
    {
      "cell_type": "markdown",
      "source": [
        "**Boxplot Age vs Multiple Aneurysms:**"
      ],
      "metadata": {
        "id": "4mlAugT2Uz2H"
      }
    },
    {
      "cell_type": "code",
      "source": [
        "# select the data\n",
        "data = feature_df[['age', 'multipleAneurysms']]\n",
        "# build the graph\n",
        "sns.boxplot(x='multipleAneurysms', y='age', data=data, palette=\"Blues\")\n",
        "plt.gca().spines[['top', 'right',]].set_visible(False)\n",
        "plt.grid(True, linestyle='-', alpha=0.3)\n",
        "plt.gca().set_facecolor('whitesmoke')\n",
        "plt.title('Age Boxplot by Presence of Multiple Aneurysm')"
      ],
      "metadata": {
        "id": "qt0coZF6U1zW",
        "colab": {
          "base_uri": "https://localhost:8080/",
          "height": 490
        },
        "outputId": "99c7d627-65ca-47e6-f335-17a6186f6956"
      },
      "execution_count": 6,
      "outputs": [
        {
          "output_type": "execute_result",
          "data": {
            "text/plain": [
              "Text(0.5, 1.0, 'Age Boxplot by Presence of Multiple Aneurysm')"
            ]
          },
          "metadata": {},
          "execution_count": 6
        },
        {
          "output_type": "display_data",
          "data": {
            "text/plain": [
              "<Figure size 640x480 with 1 Axes>"
            ],
            "image/png": "[encoded data removed]"
          },
          "metadata": {}
        }
      ]
    },
    {
      "cell_type": "markdown",
      "source": [
        "**Comment**:\n",
        "\n",
        "There are no important differences. The number of patients with multiple aneurysm is much higher, so it is prevedible that the box-plot results wider."
      ],
      "metadata": {
        "id": "xwHl2QhiUR5m"
      }
    },
    {
      "cell_type": "markdown",
      "source": [
        "**Boxplot Age vs Type:**"
      ],
      "metadata": {
        "id": "WH9tcMs2U6Qf"
      }
    },
    {
      "cell_type": "code",
      "source": [
        "# select data\n",
        "data = feature_df[['age', 'aneurysmType']]\n",
        "# build the graph\n",
        "sns.boxplot(x='aneurysmType', y='age', data=data, palette=\"Blues\")\n",
        "plt.gca().spines[['top', 'right',]].set_visible(False)\n",
        "plt.grid(True, linestyle='-', alpha=0.3)\n",
        "plt.gca().set_facecolor('whitesmoke')\n",
        "plt.title('Age Boxplot by Aneurysm Type')"
      ],
      "metadata": {
        "id": "HH-gvYX1U5v3",
        "colab": {
          "base_uri": "https://localhost:8080/",
          "height": 490
        },
        "outputId": "85ae5e93-634d-4155-f1a5-2b24e7abac34"
      },
      "execution_count": 7,
      "outputs": [
        {
          "output_type": "execute_result",
          "data": {
            "text/plain": [
              "Text(0.5, 1.0, 'Age Boxplot by Aneurysm Type')"
            ]
          },
          "metadata": {},
          "execution_count": 7
        },
        {
          "output_type": "display_data",
          "data": {
            "text/plain": [
              "<Figure size 640x480 with 1 Axes>"
            ],
            "image/png": "[encoded data removed]"
          },
          "metadata": {}
        }
      ]
    },
    {
      "cell_type": "markdown",
      "source": [
        "**Comment**:\n",
        "\n",
        "Also here, there are no significant differences between the two. People with aneurysm on terminal portion ten to be slightly younger than those with aneurysm on lateral portion."
      ],
      "metadata": {
        "id": "wbHQgXipU2pd"
      }
    },
    {
      "cell_type": "markdown",
      "source": [
        "**Frequency Multiple Aneurysm by Location:**"
      ],
      "metadata": {
        "id": "efuEcmZdU_DK"
      }
    },
    {
      "cell_type": "code",
      "source": [
        "# select data\n",
        "data = pd.crosstab(feature_df['multipleAneurysms'], feature_df['aneurysmLocation'])\n",
        "\n",
        "# define the categories of aneurysm location\n",
        "types = (\"ACA\", \"BAS\", \"ICA\", \"MCA\")\n",
        "# create dictionary containing multiple aneurysm proportion\n",
        "values = {'False': data.values[0].tolist()/data.values.sum(axis = 0),\n",
        "          'True': data.values[1].tolist()/data.values.sum(axis = 0)}\n",
        "\n",
        "\n",
        "x = np.arange(len(types))  # the label of locations\n",
        "width = 0.1  # the width of the bars\n",
        "\n",
        "fig, ax = plt.subplots()\n",
        "\n",
        "# define color palettes\n",
        "false_color = sns.color_palette(\"Blues\")[1]\n",
        "true_color = sns.color_palette(\"Blues\")[4]\n",
        "\n",
        "# plot the bars for lateral\n",
        "ax.bar(x - width/2, values['False'], width, label='False', color=false_color)\n",
        "\n",
        "# plot the bars for terminal\n",
        "ax.bar(x + width/2, values['True'], width, label='True', color=true_color)\n",
        "\n",
        "\n",
        "ax.set_ylabel('Frequency')\n",
        "ax.set_title('Multiple Aneurysm by Aneurysm Location')\n",
        "ax.set_xticks(x)\n",
        "ax.set_xticklabels(types)\n",
        "plt.gca().spines[['top', 'right',]].set_visible(False)\n",
        "plt.grid(True, linestyle='-', alpha=0.3)\n",
        "plt.gca().set_facecolor('whitesmoke')\n",
        "ax.legend()\n",
        "\n",
        "plt.show()"
      ],
      "metadata": {
        "id": "HAeAXgcuU-Vn",
        "colab": {
          "base_uri": "https://localhost:8080/",
          "height": 452
        },
        "outputId": "80096264-76df-4c54-a2a5-9aed94dd18d3"
      },
      "execution_count": 8,
      "outputs": [
        {
          "output_type": "display_data",
          "data": {
            "text/plain": [
              "<Figure size 640x480 with 1 Axes>"
            ],
            "image/png": "[encoded data removed]"
          },
          "metadata": {}
        }
      ]
    },
    {
      "cell_type": "markdown",
      "source": [
        "**Comment**:\n",
        "\n",
        "There is a prevalence of non-multiple aneurysm. All the multiple anuerysm are on the ICA and MCA."
      ],
      "metadata": {
        "id": "xEb9Duuaed42"
      }
    },
    {
      "cell_type": "markdown",
      "source": [
        "**Location by Type:**"
      ],
      "metadata": {
        "id": "11mgmpiVVE1n"
      }
    },
    {
      "cell_type": "code",
      "source": [
        "# select data\n",
        "data = pd.crosstab(feature_df['aneurysmType'], feature_df['aneurysmLocation'])\n",
        "\n",
        "# define the categories of aneurysm location\n",
        "types = (\"ACA\", \"BAS\", \"ICA\", \"MCA\")\n",
        "# create dictionary for aneurysm type proportion\n",
        "values = {'LAT': data.values[0].tolist()/data.values.sum(axis = 0),\n",
        "          'TER': data.values[1].tolist()/data.values.sum(axis = 0)}\n",
        "\n",
        "x = np.arange(len(types))  # the label of locations\n",
        "width = 0.1  # the width of the bars\n",
        "\n",
        "fig, ax = plt.subplots()\n",
        "\n",
        "# define color palettes\n",
        "lateral_color = sns.color_palette(\"Blues\")[1]\n",
        "terminal_color = sns.color_palette(\"Blues\")[4]\n",
        "\n",
        "# plot the bars for lateral\n",
        "ax.bar(x - width/2, values['LAT'], width, label='LAT', color=lateral_color)\n",
        "\n",
        "# plot the bars for terminal\n",
        "ax.bar(x + width/2, values['TER'], width, label='TER', color=terminal_color)\n",
        "\n",
        "ax.set_ylabel('Relative Frequency')\n",
        "ax.set_title('Aneurysm Location by Type')\n",
        "ax.set_xticks(x)\n",
        "ax.set_xticklabels(types)\n",
        "plt.grid(True, linestyle='-', alpha=0.3)\n",
        "plt.gca().set_facecolor('whitesmoke')\n",
        "ax.legend()\n",
        "\n",
        "plt.show()"
      ],
      "metadata": {
        "id": "T9l1S8igVER3",
        "colab": {
          "base_uri": "https://localhost:8080/",
          "height": 452
        },
        "outputId": "0849da18-ca9a-4713-b3f5-958e8f9008ec"
      },
      "execution_count": 9,
      "outputs": [
        {
          "output_type": "display_data",
          "data": {
            "text/plain": [
              "<Figure size 640x480 with 1 Axes>"
            ],
            "image/png": "[encoded data removed]"
          },
          "metadata": {}
        }
      ]
    },
    {
      "cell_type": "markdown",
      "source": [
        "**Comment**:\n",
        "\n",
        "Lateral aneurysms characterized the ICA artery. ACA, BAS and MCA are prevalently subjected by terminal ones. Probably, the position of the aneurysm on different artery portion could also coincide with the fact of being lateral or terminal."
      ],
      "metadata": {
        "id": "e5c6vjt1fqTD"
      }
    },
    {
      "cell_type": "markdown",
      "source": [
        "**Rupture by location:**"
      ],
      "metadata": {
        "id": "_BxmXkgzVNCn"
      }
    },
    {
      "cell_type": "code",
      "source": [
        "# select data\n",
        "data = pd.crosstab(feature_df['ruptureStatus'], feature_df['aneurysmLocation'])\n",
        "\n",
        "# define the categories of aneurysm location\n",
        "types = (\"ACA\", \"BAS\", \"ICA\", \"MCA\")\n",
        "# define the dictionary for rupture values proportion\n",
        "values = {'R': data.values[0].tolist()/data.values.sum(axis = 0),\n",
        "          'U': data.values[1].tolist()/data.values.sum(axis = 0)}\n",
        "\n",
        "x = np.arange(len(types))  # the label of locations\n",
        "width = 0.1  # the width of the bars\n",
        "\n",
        "fig, ax = plt.subplots()\n",
        "\n",
        "# create color palettes\n",
        "ruptured_color = sns.color_palette(\"Blues\")[1]\n",
        "unruptured_color = sns.color_palette(\"Blues\")[4]\n",
        "\n",
        "# plot the bars for lateral\n",
        "ax.bar(x - width/2, values['R'], width, label='R', color=ruptured_color)\n",
        "\n",
        "# plot the bars for terminal\n",
        "ax.bar(x + width/2, values['U'], width, label='U', color=unruptured_color)\n",
        "\n",
        "ax.set_ylabel('Relative Frequency')\n",
        "ax.set_title('Rupture Status by Locaton')\n",
        "ax.set_xticks(x)\n",
        "ax.set_xticklabels(types)\n",
        "plt.gca().spines[['top', 'right',]].set_visible(False)\n",
        "plt.grid(True, linestyle='-', alpha=0.3)\n",
        "plt.gca().set_facecolor('whitesmoke')\n",
        "ax.legend()\n",
        "\n",
        "plt.show()"
      ],
      "metadata": {
        "id": "0jLv5-MVVMi7",
        "colab": {
          "base_uri": "https://localhost:8080/",
          "height": 452
        },
        "outputId": "828499e2-1767-4135-f2ca-5248e53f1ead"
      },
      "execution_count": 10,
      "outputs": [
        {
          "output_type": "display_data",
          "data": {
            "text/plain": [
              "<Figure size 640x480 with 1 Axes>"
            ],
            "image/png": "[encoded data removed]"
          },
          "metadata": {}
        }
      ]
    },
    {
      "cell_type": "markdown",
      "source": [
        "**Comment**:\n",
        "\n",
        "The ICA and MCA are characterized by a higher presence of unruptured, with respect to the total numer of aneurysm on the artery. ACA and BAS have evidently a much higher proportion of ruptured aneurysms."
      ],
      "metadata": {
        "id": "2f3LAu8GgOk_"
      }
    },
    {
      "cell_type": "markdown",
      "source": [
        "**Age Distribution:**"
      ],
      "metadata": {
        "id": "Xmu-xbhEVSg7"
      }
    },
    {
      "cell_type": "code",
      "source": [
        "# define the color palette\n",
        "color_palette = sns.color_palette(\"vlag\")\n",
        "# make the plot of age distribution\n",
        "feature_df['age'].plot(kind='hist', color = color_palette, bins=20, title='age', edgecolor='slategrey', figsize=(8*1, 4*1))\n",
        "plt.grid(True, linestyle='-', alpha=0.3)\n",
        "plt.gca().set_facecolor('whitesmoke')\n",
        "plt.title('Age Distribution')\n",
        "plt.tight_layout()"
      ],
      "metadata": {
        "colab": {
          "base_uri": "https://localhost:8080/",
          "height": 407
        },
        "id": "ZSp4pvWkcaC5",
        "outputId": "970fce1e-0bab-45c0-eb26-3343e0d8f95c"
      },
      "execution_count": 12,
      "outputs": [
        {
          "output_type": "display_data",
          "data": {
            "text/plain": [
              "<Figure size 800x400 with 1 Axes>"
            ],
            "image/png": "[encoded data removed]"
          },
          "metadata": {}
        }
      ]
    },
    {
      "cell_type": "markdown",
      "source": [
        "**Comment**:\n",
        "\n",
        "The Adge distribution presents higher frequencies on older ages. There is only another pick around 20 years old."
      ],
      "metadata": {
        "id": "W9-zHlCRngSY"
      }
    },
    {
      "cell_type": "markdown",
      "source": [
        "**Frequency of Aneurysm Locations:**"
      ],
      "metadata": {
        "id": "r0BpnGaoVYCj"
      }
    },
    {
      "cell_type": "code",
      "source": [
        "# define the color palette\n",
        "color_palette = sns.color_palette(\"Blues\")\n",
        "# make the plot\n",
        "feature_df.groupby('aneurysmLocation').size().plot(kind='barh', color= color_palette, figsize=(8*1, 4.8*1))\n",
        "plt.gca().spines[['top', 'right',]].set_visible(False)\n",
        "plt.title('Aneurysm Location Distribution')\n",
        "plt.grid(True, linestyle='-', alpha=0.3)\n",
        "plt.gca().set_facecolor('whitesmoke')"
      ],
      "metadata": {
        "id": "bTHdi7mpVXPF",
        "colab": {
          "base_uri": "https://localhost:8080/",
          "height": 452
        },
        "outputId": "036bea66-402a-4b0e-c31e-8fb5f5c7a273"
      },
      "execution_count": 13,
      "outputs": [
        {
          "output_type": "display_data",
          "data": {
            "text/plain": [
              "<Figure size 800x480 with 1 Axes>"
            ],
            "image/png": "[encoded data removed]"
          },
          "metadata": {}
        }
      ]
    },
    {
      "cell_type": "markdown",
      "source": [
        "**Comment**:\n",
        "\n",
        "The most common aneurysms are those on ICA artery. Followed by ACA and MCA, the rare one are those on the BAS artery."
      ],
      "metadata": {
        "id": "kmXRY8tEn1Wn"
      }
    },
    {
      "cell_type": "markdown",
      "source": [
        "**Sex vs Rupture:**"
      ],
      "metadata": {
        "id": "Tu8TVNSYusC5"
      }
    },
    {
      "cell_type": "code",
      "source": [
        "# select the data\n",
        "data = pd.crosstab(feature_df['sex'], feature_df['ruptureStatus'])\n",
        "\n",
        "#\n",
        "types = (\"Ruptured\", \"Unruptured\")\n",
        "values = {'F': data.values[0].tolist()/data.values.sum(axis = 0),\n",
        "          'M': data.values[1].tolist()/data.values.sum(axis = 0)}\n",
        "\n",
        "x = np.arange(len(types))  # the label of locations\n",
        "width = 0.1  # the width of the bars\n",
        "\n",
        "fig, ax = plt.subplots()\n",
        "\n",
        "ruptured_color = sns.color_palette(\"Blues\")[1]\n",
        "unruptured_color = sns.color_palette(\"Blues\")[4]\n",
        "\n",
        "# Plot the bars for lateral\n",
        "ax.bar(x - width/2, values['F'], width, label='F', color=ruptured_color)\n",
        "\n",
        "# Plot the bars for terminal\n",
        "ax.bar(x + width/2, values['M'], width, label='M', color=unruptured_color)\n",
        "\n",
        "# Add some text for labels, title, and custom x-axis tick labels\n",
        "ax.set_ylabel('Relative Frequency')\n",
        "ax.set_title('Cluster 0 - Rupture Status by Locaton')\n",
        "ax.set_xticks(x)\n",
        "ax.set_xticklabels(types)\n",
        "plt.gca().spines[['top', 'right',]].set_visible(False)\n",
        "plt.grid(True, linestyle='-', alpha=0.3)\n",
        "plt.gca().set_facecolor('whitesmoke')\n",
        "ax.legend()\n",
        "\n",
        "plt.show()"
      ],
      "metadata": {
        "colab": {
          "base_uri": "https://localhost:8080/",
          "height": 452
        },
        "id": "e0zR07QhuPsg",
        "outputId": "3193a2bb-d4ff-4620-a16c-e79429c21a85"
      },
      "execution_count": null,
      "outputs": [
        {
          "output_type": "display_data",
          "data": {
            "text/plain": [
              "<Figure size 640x480 with 1 Axes>"
            ],
            "image/png": "[encoded data removed]"
          },
          "metadata": {}
        }
      ]
    },
    {
      "cell_type": "markdown",
      "source": [
        "**Comment**:\n",
        "\n",
        "There is no evidence of higher proportion of ruptured aneurysms on a specific sex."
      ],
      "metadata": {
        "id": "n4zrUcGLoov6"
      }
    }
  ]
}
